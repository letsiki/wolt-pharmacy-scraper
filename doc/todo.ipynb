{
 "cells": [
  {
   "cell_type": "markdown",
   "metadata": {},
   "source": [
    "CURRENT TODOS\n",
    "\n",
    "- toFIX Some lists in the prices column still contain double quotations\n",
    "\n",
    "OLD TODOS TO REVISIT AT SOME POINT\n",
    "\n",
    "- create a seperate function to only extract categories without opening them in a new page\n",
    "- Extract Categories to a Dataframe use the algorithm located at Datawars string manipuolation method to find similar\n",
    "categories and merge them and Finally figure out the most popular categories\n",
    "- after opening all products thorugh the night verify that their total number is greater or equal to 50 * 1500 -> they are not they 44,044\n",
    "- Save levenstein filtered items to csv"
   ]
  },
  {
   "cell_type": "markdown",
   "metadata": {},
   "source": []
  }
 ],
 "metadata": {
  "language_info": {
   "name": "python"
  }
 },
 "nbformat": 4,
 "nbformat_minor": 2
}
